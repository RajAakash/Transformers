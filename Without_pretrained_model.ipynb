{
  "nbformat": 4,
  "nbformat_minor": 0,
  "metadata": {
    "colab": {
      "provenance": [],
      "authorship_tag": "ABX9TyN8wu2JSAoslPzOZvr6CHvO",
      "include_colab_link": true
    },
    "kernelspec": {
      "name": "python3",
      "display_name": "Python 3"
    },
    "language_info": {
      "name": "python"
    }
  },
  "cells": [
    {
      "cell_type": "markdown",
      "metadata": {
        "id": "view-in-github",
        "colab_type": "text"
      },
      "source": [
        "<a href=\"https://colab.research.google.com/github/RajAakash/Transformers/blob/main/Without_pretrained_model.ipynb\" target=\"_parent\"><img src=\"https://colab.research.google.com/assets/colab-badge.svg\" alt=\"Open In Colab\"/></a>"
      ]
    },
    {
      "cell_type": "code",
      "execution_count": null,
      "metadata": {
        "id": "akXzRmbjBvh-"
      },
      "outputs": [],
      "source": [
        "from transformers import BertModel, BertTokenizer\n",
        "\n",
        "# Initialize a BERT model without pre-trained weights\n",
        "model = BertModel()\n",
        "tokenizer = BertTokenizer.from_pretrained(\"bert-base-uncased\")  # You can still use a pre-trained tokenizer\n",
        "\n",
        "# Example input\n",
        "input_text = \"Hello, this is an example sentence.\"\n",
        "\n",
        "# Tokenize the input\n",
        "tokens = tokenizer(input_text, return_tensors=\"pt\")\n",
        "\n",
        "# Forward pass through the model\n",
        "outputs = model(**tokens)\n",
        "\n",
        "# Print the output\n",
        "print(outputs.last_hidden_state)"
      ]
    },
    {
      "cell_type": "code",
      "source": [
        "#model with pretrained weights\n",
        "from transformers import BertModel, BertTokenizer\n",
        "\n",
        "# Load a pre-trained BERT model and tokenizer\n",
        "model = BertModel.from_pretrained(\"bert-base-uncased\")\n",
        "tokenizer = BertTokenizer.from_pretrained(\"bert-base-uncased\")\n",
        "\n",
        "# Example input\n",
        "input_text = \"Hello, this is an example sentence.\"\n",
        "\n",
        "# Tokenize the input\n",
        "tokens = tokenizer(input_text, return_tensors=\"pt\")\n",
        "\n",
        "# Forward pass through the model\n",
        "outputs = model(**tokens)\n",
        "\n",
        "# Print the output\n",
        "print(outputs.last_hidden_state)\n"
      ],
      "metadata": {
        "id": "2byXuDQvCU-L"
      },
      "execution_count": null,
      "outputs": []
    }
  ]
}