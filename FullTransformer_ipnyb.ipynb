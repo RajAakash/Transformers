{
  "nbformat": 4,
  "nbformat_minor": 0,
  "metadata": {
    "colab": {
      "provenance": [],
      "authorship_tag": "ABX9TyO7AaapOMxCKjsimgYzpE89",
      "include_colab_link": true
    },
    "kernelspec": {
      "name": "python3",
      "display_name": "Python 3"
    },
    "language_info": {
      "name": "python"
    }
  },
  "cells": [
    {
      "cell_type": "markdown",
      "metadata": {
        "id": "view-in-github",
        "colab_type": "text"
      },
      "source": [
        "<a href=\"https://colab.research.google.com/github/RajAakash/Transformers/blob/main/FullTransformer_ipnyb.ipynb\" target=\"_parent\"><img src=\"https://colab.research.google.com/assets/colab-badge.svg\" alt=\"Open In Colab\"/></a>"
      ]
    },
    {
      "cell_type": "code",
      "execution_count": 11,
      "metadata": {
        "id": "PWBWZZaalXOt"
      },
      "outputs": [],
      "source": [
        "import torch\n",
        "import torch.nn as nn\n",
        "import torch.optim as optim\n",
        "import torch.utils.data as data\n",
        "import math\n",
        "import copy"
      ]
    },
    {
      "cell_type": "code",
      "source": [
        "class MultiHeadAttention(nn.Module):\n",
        "    def __init__(self, d_model, num_heads):\n",
        "        super(MultiHeadAttention, self).__init__()\n",
        "        # Ensure that the model dimension (d_model) is divisible by the number of heads\n",
        "        assert d_model % num_heads == 0, \"d_model must be divisible by num_heads\"\n",
        "\n",
        "        # Initialize dimensions\n",
        "        self.d_model = d_model # Model's dimension\n",
        "        self.num_heads = num_heads # Number of attention heads\n",
        "        self.d_k = d_model // num_heads # Dimension of each head's key, query, and value\n",
        "\n",
        "        # Linear layers for transforming inputs\n",
        "        self.W_q = nn.Linear(d_model, d_model) # Query transformation\n",
        "        self.W_k = nn.Linear(d_model, d_model) # Key transformation\n",
        "        self.W_v = nn.Linear(d_model, d_model) # Value transformation\n",
        "        self.W_o = nn.Linear(d_model, d_model) # Output transformation\n",
        "\n",
        "    def scaled_dot_product_attention(self, Q, K, V, mask=None):\n",
        "        # Calculate attention scores\n",
        "        attn_scores = torch.matmul(Q, K.transpose(-2, -1)) / math.sqrt(self.d_k)\n",
        "\n",
        "        # Apply mask if provided (useful for preventing attention to certain parts like padding)\n",
        "        if mask is not None:\n",
        "            attn_scores = attn_scores.masked_fill(mask == 0, -1e9)\n",
        "\n",
        "        # Softmax is applied to obtain attention probabilities\n",
        "        attn_probs = torch.softmax(attn_scores, dim=-1)\n",
        "\n",
        "        # Multiply by values to obtain the final output\n",
        "        output = torch.matmul(attn_probs, V)\n",
        "        return output\n",
        "\n",
        "    def split_heads(self, x):\n",
        "        # Reshape the input to have num_heads for multi-head attention\n",
        "        batch_size, seq_length, d_model = x.size()\n",
        "        return x.view(batch_size, seq_length, self.num_heads, self.d_k).transpose(1, 2)\n",
        "\n",
        "    def combine_heads(self, x):\n",
        "        # Combine the multiple heads back to original shape\n",
        "        batch_size, _, seq_length, d_k = x.size()\n",
        "        return x.transpose(1, 2).contiguous().view(batch_size, seq_length, self.d_model)\n",
        "\n",
        "    def forward(self, Q, K, V, mask=None):\n",
        "        # Apply linear transformations and split heads\n",
        "        Q = self.split_heads(self.W_q(Q))\n",
        "        K = self.split_heads(self.W_k(K))\n",
        "        V = self.split_heads(self.W_v(V))\n",
        "\n",
        "        # Perform scaled dot-product attention\n",
        "        attn_output = self.scaled_dot_product_attention(Q, K, V, mask)\n",
        "\n",
        "        # Combine heads and apply output transformation\n",
        "        output = self.W_o(self.combine_heads(attn_output))\n",
        "        return output"
      ],
      "metadata": {
        "id": "8CEolhPNlYTR"
      },
      "execution_count": 12,
      "outputs": []
    },
    {
      "cell_type": "code",
      "source": [
        "class PositionalEncoding(nn.Module):\n",
        "    def __init__(self, d_model, max_seq_length):\n",
        "        super(PositionalEncoding, self).__init__()\n",
        "\n",
        "        pe = torch.zeros(max_seq_length, d_model)\n",
        "        position = torch.arange(0, max_seq_length, dtype=torch.float).unsqueeze(1)\n",
        "        div_term = torch.exp(torch.arange(0, d_model, 2).float() * -(math.log(10000.0) / d_model))\n",
        "\n",
        "        pe[:, 0::2] = torch.sin(position * div_term)\n",
        "        pe[:, 1::2] = torch.cos(position * div_term)\n",
        "\n",
        "        self.register_buffer('pe', pe.unsqueeze(0))\n",
        "\n",
        "    def forward(self, x):\n",
        "        return x + self.pe[:, :x.size(1)]"
      ],
      "metadata": {
        "id": "_R7z3zx_xDMl"
      },
      "execution_count": 18,
      "outputs": []
    },
    {
      "cell_type": "code",
      "source": [
        "class PositionWiseFeedForward(nn.Module):\n",
        "    def __init__(self, d_model, d_ff):\n",
        "        super(PositionWiseFeedForward, self).__init__()\n",
        "        self.fc1 = nn.Linear(d_model, d_ff)\n",
        "        self.fc2 = nn.Linear(d_ff, d_model)\n",
        "        self.relu = nn.ReLU()\n",
        "\n",
        "    def forward(self, x):\n",
        "        return self.fc2(self.relu(self.fc1(x)))"
      ],
      "metadata": {
        "id": "cwruzft7wp0v"
      },
      "execution_count": 14,
      "outputs": []
    },
    {
      "cell_type": "code",
      "source": [
        "class EncoderLayer(nn.Module):\n",
        "    def __init__(self, d_model, num_heads, d_ff, dropout):\n",
        "        super(EncoderLayer, self).__init__()\n",
        "        self.self_attn = MultiHeadAttention(d_model, num_heads)\n",
        "        self.feed_forward = PositionWiseFeedForward(d_model, d_ff)\n",
        "        self.norm1 = nn.LayerNorm(d_model)\n",
        "        self.norm2 = nn.LayerNorm(d_model)\n",
        "        self.dropout = nn.Dropout(dropout)\n",
        "\n",
        "    def forward(self, x, mask):\n",
        "        attn_output = self.self_attn(x, x, x, mask)\n",
        "        x = self.norm1(x + self.dropout(attn_output))\n",
        "        ff_output = self.feed_forward(x)\n",
        "        x = self.norm2(x + self.dropout(ff_output))\n",
        "        return x"
      ],
      "metadata": {
        "id": "q1nKWunOwJ7r"
      },
      "execution_count": 13,
      "outputs": []
    },
    {
      "cell_type": "code",
      "source": [
        "class DecoderLayer(nn.Module):\n",
        "    def __init__(self, d_model, num_heads, d_ff, dropout):\n",
        "        super(DecoderLayer, self).__init__()\n",
        "        self.self_attn = MultiHeadAttention(d_model, num_heads)\n",
        "        self.cross_attn = MultiHeadAttention(d_model, num_heads)\n",
        "        self.feed_forward = PositionWiseFeedForward(d_model, d_ff)\n",
        "        self.norm1 = nn.LayerNorm(d_model)\n",
        "        self.norm2 = nn.LayerNorm(d_model)\n",
        "        self.norm3 = nn.LayerNorm(d_model)\n",
        "        self.dropout = nn.Dropout(dropout)\n",
        "\n",
        "    def forward(self, x, enc_output, src_mask, tgt_mask):\n",
        "        attn_output = self.self_attn(x, x, x, tgt_mask)\n",
        "        x = self.norm1(x + self.dropout(attn_output))\n",
        "        attn_output = self.cross_attn(x, enc_output, enc_output, src_mask)\n",
        "        x = self.norm2(x + self.dropout(attn_output))\n",
        "        ff_output = self.feed_forward(x)\n",
        "        x = self.norm3(x + self.dropout(ff_output))\n",
        "        return x"
      ],
      "metadata": {
        "id": "2vYOZGkDwlpg"
      },
      "execution_count": 15,
      "outputs": []
    },
    {
      "cell_type": "code",
      "source": [
        "class Transformer(nn.Module):\n",
        "    def __init__(self, src_vocab_size, tgt_vocab_size, d_model, num_heads, num_layers, d_ff, max_seq_length, dropout):\n",
        "        super(Transformer, self).__init__()\n",
        "        self.encoder_embedding = nn.Embedding(src_vocab_size, d_model)\n",
        "        self.decoder_embedding = nn.Embedding(tgt_vocab_size, d_model)\n",
        "        self.positional_encoding = PositionalEncoding(d_model, max_seq_length)\n",
        "\n",
        "        self.encoder_layers = nn.ModuleList([EncoderLayer(d_model, num_heads, d_ff, dropout) for _ in range(num_layers)])\n",
        "        self.decoder_layers = nn.ModuleList([DecoderLayer(d_model, num_heads, d_ff, dropout) for _ in range(num_layers)])\n",
        "\n",
        "        self.fc = nn.Linear(d_model, tgt_vocab_size)\n",
        "        self.dropout = nn.Dropout(dropout)\n",
        "\n",
        "    def generate_mask(self, src, tgt):\n",
        "        src_mask = (src != 0).unsqueeze(1).unsqueeze(2)\n",
        "        tgt_mask = (tgt != 0).unsqueeze(1).unsqueeze(3)\n",
        "        seq_length = tgt.size(1)\n",
        "        nopeak_mask = (1 - torch.triu(torch.ones(1, seq_length, seq_length), diagonal=1)).bool()\n",
        "        tgt_mask = tgt_mask & nopeak_mask\n",
        "        return src_mask, tgt_mask\n",
        "\n",
        "    def forward(self, src, tgt):\n",
        "        src_mask, tgt_mask = self.generate_mask(src, tgt)\n",
        "        src_embedded = self.dropout(self.positional_encoding(self.encoder_embedding(src)))\n",
        "        tgt_embedded = self.dropout(self.positional_encoding(self.decoder_embedding(tgt)))\n",
        "\n",
        "        enc_output = src_embedded\n",
        "        for enc_layer in self.encoder_layers:\n",
        "            enc_output = enc_layer(enc_output, src_mask)\n",
        "\n",
        "        dec_output = tgt_embedded\n",
        "        for dec_layer in self.decoder_layers:\n",
        "            dec_output = dec_layer(dec_output, enc_output, src_mask, tgt_mask)\n",
        "\n",
        "        output = self.fc(dec_output)\n",
        "        return output"
      ],
      "metadata": {
        "id": "CFvIsrhdwvzk"
      },
      "execution_count": 16,
      "outputs": []
    },
    {
      "cell_type": "code",
      "source": [
        "src_vocab_size = 5000\n",
        "tgt_vocab_size = 5000\n",
        "d_model = 512\n",
        "num_heads = 8\n",
        "num_layers = 6\n",
        "d_ff = 2048\n",
        "max_seq_length = 100\n",
        "dropout = 0.1\n",
        "\n",
        "transformer = Transformer(src_vocab_size, tgt_vocab_size, d_model, num_heads, num_layers, d_ff, max_seq_length, dropout)\n",
        "\n",
        "# Generate random sample data\n",
        "src_data = torch.randint(1, src_vocab_size, (64, max_seq_length))  # (batch_size, seq_length)\n",
        "tgt_data = torch.randint(1, tgt_vocab_size, (64, max_seq_length))  # (batch_size, seq_length)"
      ],
      "metadata": {
        "id": "uEvQ4LE5w1_g"
      },
      "execution_count": 19,
      "outputs": []
    },
    {
      "cell_type": "code",
      "source": [
        "criterion = nn.CrossEntropyLoss(ignore_index=0)\n",
        "optimizer = optim.Adam(transformer.parameters(), lr=0.0001, betas=(0.9, 0.98), eps=1e-9)\n",
        "\n",
        "transformer.train()\n",
        "\n",
        "for epoch in range(100):\n",
        "    optimizer.zero_grad()\n",
        "    output = transformer(src_data, tgt_data[:, :-1])\n",
        "    loss = criterion(output.contiguous().view(-1, tgt_vocab_size), tgt_data[:, 1:].contiguous().view(-1))\n",
        "    loss.backward()\n",
        "    optimizer.step()\n",
        "    print(f\"Epoch: {epoch+1}, Loss: {loss.item()}\")"
      ],
      "metadata": {
        "colab": {
          "base_uri": "https://localhost:8080/"
        },
        "id": "umJq6_Vew38e",
        "outputId": "08ee5df3-d810-45d1-fb16-a06ad683bbaa"
      },
      "execution_count": 20,
      "outputs": [
        {
          "output_type": "stream",
          "name": "stdout",
          "text": [
            "Epoch: 1, Loss: 8.680591583251953\n",
            "Epoch: 2, Loss: 8.542997360229492\n",
            "Epoch: 3, Loss: 8.47298526763916\n",
            "Epoch: 4, Loss: 8.41867733001709\n",
            "Epoch: 5, Loss: 8.361981391906738\n",
            "Epoch: 6, Loss: 8.29659652709961\n",
            "Epoch: 7, Loss: 8.21983528137207\n",
            "Epoch: 8, Loss: 8.129392623901367\n",
            "Epoch: 9, Loss: 8.051027297973633\n",
            "Epoch: 10, Loss: 7.971794128417969\n",
            "Epoch: 11, Loss: 7.891965866088867\n",
            "Epoch: 12, Loss: 7.811089515686035\n",
            "Epoch: 13, Loss: 7.731354236602783\n",
            "Epoch: 14, Loss: 7.648688316345215\n",
            "Epoch: 15, Loss: 7.5653181076049805\n",
            "Epoch: 16, Loss: 7.478885650634766\n",
            "Epoch: 17, Loss: 7.3985161781311035\n",
            "Epoch: 18, Loss: 7.3111491203308105\n",
            "Epoch: 19, Loss: 7.239495754241943\n",
            "Epoch: 20, Loss: 7.168033599853516\n",
            "Epoch: 21, Loss: 7.083609580993652\n",
            "Epoch: 22, Loss: 6.9939799308776855\n",
            "Epoch: 23, Loss: 6.931807518005371\n",
            "Epoch: 24, Loss: 6.847167491912842\n",
            "Epoch: 25, Loss: 6.77449369430542\n",
            "Epoch: 26, Loss: 6.690297603607178\n",
            "Epoch: 27, Loss: 6.625358581542969\n",
            "Epoch: 28, Loss: 6.548048973083496\n",
            "Epoch: 29, Loss: 6.471656322479248\n",
            "Epoch: 30, Loss: 6.4040303230285645\n",
            "Epoch: 31, Loss: 6.33907413482666\n",
            "Epoch: 32, Loss: 6.271378993988037\n",
            "Epoch: 33, Loss: 6.2024455070495605\n",
            "Epoch: 34, Loss: 6.13906192779541\n",
            "Epoch: 35, Loss: 6.076813220977783\n",
            "Epoch: 36, Loss: 6.0014142990112305\n",
            "Epoch: 37, Loss: 5.944386959075928\n",
            "Epoch: 38, Loss: 5.874612331390381\n",
            "Epoch: 39, Loss: 5.819712162017822\n",
            "Epoch: 40, Loss: 5.74543571472168\n",
            "Epoch: 41, Loss: 5.685251712799072\n",
            "Epoch: 42, Loss: 5.624157905578613\n",
            "Epoch: 43, Loss: 5.566561222076416\n",
            "Epoch: 44, Loss: 5.5029754638671875\n",
            "Epoch: 45, Loss: 5.4383697509765625\n",
            "Epoch: 46, Loss: 5.387357234954834\n",
            "Epoch: 47, Loss: 5.326443672180176\n",
            "Epoch: 48, Loss: 5.263975143432617\n",
            "Epoch: 49, Loss: 5.2064361572265625\n",
            "Epoch: 50, Loss: 5.155210018157959\n",
            "Epoch: 51, Loss: 5.0944037437438965\n",
            "Epoch: 52, Loss: 5.039889335632324\n",
            "Epoch: 53, Loss: 4.9872283935546875\n",
            "Epoch: 54, Loss: 4.934530258178711\n",
            "Epoch: 55, Loss: 4.876925945281982\n",
            "Epoch: 56, Loss: 4.824107646942139\n",
            "Epoch: 57, Loss: 4.768543243408203\n",
            "Epoch: 58, Loss: 4.7136125564575195\n",
            "Epoch: 59, Loss: 4.65695333480835\n",
            "Epoch: 60, Loss: 4.608254432678223\n",
            "Epoch: 61, Loss: 4.554954528808594\n",
            "Epoch: 62, Loss: 4.50369119644165\n",
            "Epoch: 63, Loss: 4.461328506469727\n",
            "Epoch: 64, Loss: 4.404514312744141\n",
            "Epoch: 65, Loss: 4.356527328491211\n",
            "Epoch: 66, Loss: 4.310229301452637\n",
            "Epoch: 67, Loss: 4.251604080200195\n",
            "Epoch: 68, Loss: 4.211278915405273\n",
            "Epoch: 69, Loss: 4.156382083892822\n",
            "Epoch: 70, Loss: 4.111494541168213\n",
            "Epoch: 71, Loss: 4.059857368469238\n",
            "Epoch: 72, Loss: 4.00815486907959\n",
            "Epoch: 73, Loss: 3.9559473991394043\n",
            "Epoch: 74, Loss: 3.910635232925415\n",
            "Epoch: 75, Loss: 3.8555338382720947\n",
            "Epoch: 76, Loss: 3.8142218589782715\n",
            "Epoch: 77, Loss: 3.7688472270965576\n",
            "Epoch: 78, Loss: 3.713763952255249\n",
            "Epoch: 79, Loss: 3.6770458221435547\n",
            "Epoch: 80, Loss: 3.625309705734253\n",
            "Epoch: 81, Loss: 3.5834949016571045\n",
            "Epoch: 82, Loss: 3.537489175796509\n",
            "Epoch: 83, Loss: 3.4920883178710938\n",
            "Epoch: 84, Loss: 3.4443318843841553\n",
            "Epoch: 85, Loss: 3.4018008708953857\n",
            "Epoch: 86, Loss: 3.353876829147339\n",
            "Epoch: 87, Loss: 3.3149750232696533\n",
            "Epoch: 88, Loss: 3.273900270462036\n",
            "Epoch: 89, Loss: 3.226585865020752\n",
            "Epoch: 90, Loss: 3.1790988445281982\n",
            "Epoch: 91, Loss: 3.133361577987671\n",
            "Epoch: 92, Loss: 3.0896730422973633\n",
            "Epoch: 93, Loss: 3.043593168258667\n",
            "Epoch: 94, Loss: 3.0006837844848633\n",
            "Epoch: 95, Loss: 2.958738327026367\n",
            "Epoch: 96, Loss: 2.9189276695251465\n",
            "Epoch: 97, Loss: 2.8648293018341064\n",
            "Epoch: 98, Loss: 2.8297529220581055\n",
            "Epoch: 99, Loss: 2.782499313354492\n",
            "Epoch: 100, Loss: 2.741642475128174\n"
          ]
        }
      ]
    },
    {
      "cell_type": "code",
      "source": [],
      "metadata": {
        "id": "R2we_SjXxMzj"
      },
      "execution_count": null,
      "outputs": []
    }
  ]
}